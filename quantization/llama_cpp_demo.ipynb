{
  "nbformat": 4,
  "nbformat_minor": 0,
  "metadata": {
    "colab": {
      "provenance": [],
      "gpuType": "T4"
    },
    "kernelspec": {
      "name": "python3",
      "display_name": "Python 3"
    },
    "language_info": {
      "name": "python"
    },
    "accelerator": "GPU"
  },
  "cells": [
    {
      "cell_type": "markdown",
      "source": [
        "Choose the model you want to use from this link: [TheBloke's GGUF models on Hugging Face](https://huggingface.co/models?sort=modified&search=thebloke+gguf)\n"
      ],
      "metadata": {
        "id": "db9lcA5oWPJF"
      }
    },
    {
      "cell_type": "code",
      "execution_count": 1,
      "metadata": {
        "colab": {
          "base_uri": "https://localhost:8080/"
        },
        "id": "XWy-eA1vI7TD",
        "outputId": "75fd3958-b746-44c6-a6a9-e40c075ce5b8"
      },
      "outputs": [
        {
          "output_type": "stream",
          "name": "stdout",
          "text": [
            "Requirement already satisfied: llama-cpp-python in /usr/local/lib/python3.10/dist-packages (0.2.26)\n",
            "Requirement already satisfied: typing-extensions>=4.5.0 in /usr/local/lib/python3.10/dist-packages (from llama-cpp-python) (4.5.0)\n",
            "Requirement already satisfied: numpy>=1.20.0 in /usr/local/lib/python3.10/dist-packages (from llama-cpp-python) (1.23.5)\n",
            "Requirement already satisfied: diskcache>=5.6.1 in /usr/local/lib/python3.10/dist-packages (from llama-cpp-python) (5.6.3)\n"
          ]
        }
      ],
      "source": [
        "!CMAKE_ARGS=\"-DLLAMA_CUBLAS=on\" FORCE_CMAKE=1 pip install llama-cpp-python"
      ]
    },
    {
      "cell_type": "code",
      "source": [
        "!wget https://huggingface.co/TheBloke/dolphin-2.6-mistral-7B-GGUF/resolve/main/dolphin-2.6-mistral-7b.Q5_K_M.gguf"
      ],
      "metadata": {
        "colab": {
          "base_uri": "https://localhost:8080/"
        },
        "id": "ehdrC3nQJcgW",
        "outputId": "e5909151-d983-4e4d-9f9f-fb7bffb00eb5"
      },
      "execution_count": 2,
      "outputs": [
        {
          "output_type": "stream",
          "name": "stdout",
          "text": [
            "--2024-01-01 00:47:52--  https://huggingface.co/TheBloke/dolphin-2.6-mistral-7B-GGUF/resolve/main/dolphin-2.6-mistral-7b.Q5_K_M.gguf\n",
            "Resolving huggingface.co (huggingface.co)... 18.172.134.88, 18.172.134.24, 18.172.134.4, ...\n",
            "Connecting to huggingface.co (huggingface.co)|18.172.134.88|:443... connected.\n",
            "HTTP request sent, awaiting response... 302 Found\n",
            "Location: https://cdn-lfs-us-1.huggingface.co/repos/71/79/7179670c1d061668ec3b58825d7563e9b7909f96c749ff2e5333e3541e1bbee2/e4ce9eabae27e45131c3d0d99223f133b96257301670073b3aee50f7627e20b2?response-content-disposition=attachment%3B+filename*%3DUTF-8%27%27dolphin-2.6-mistral-7b.Q5_K_M.gguf%3B+filename%3D%22dolphin-2.6-mistral-7b.Q5_K_M.gguf%22%3B&Expires=1704324492&Policy=eyJTdGF0ZW1lbnQiOlt7IkNvbmRpdGlvbiI6eyJEYXRlTGVzc1RoYW4iOnsiQVdTOkVwb2NoVGltZSI6MTcwNDMyNDQ5Mn19LCJSZXNvdXJjZSI6Imh0dHBzOi8vY2RuLWxmcy11cy0xLmh1Z2dpbmdmYWNlLmNvL3JlcG9zLzcxLzc5LzcxNzk2NzBjMWQwNjE2NjhlYzNiNTg4MjVkNzU2M2U5Yjc5MDlmOTZjNzQ5ZmYyZTUzMzNlMzU0MWUxYmJlZTIvZTRjZTllYWJhZTI3ZTQ1MTMxYzNkMGQ5OTIyM2YxMzNiOTYyNTczMDE2NzAwNzNiM2FlZTUwZjc2MjdlMjBiMj9yZXNwb25zZS1jb250ZW50LWRpc3Bvc2l0aW9uPSoifV19&Signature=LdUXt6VIURAzEhPiGuJ%7E4E8HrCrN8FfHzK4Eq1LAhbbF-KUoL4dKnN886djYF8jcKpSR0Osj1vzjjxHNQ5QUOqlFmkVGAeEbXM6Hc9aqGqz3s1CYEaBChUuwPE4DkjQGWmcheqYdSBpK5azBevjkpMOJWbjDlO1Axn6IIJJcZ6b6538Jl5PRPNCMwEYui3JYALyX1zA8f%7EG3kxqiQ5GB0ILlybSQWixX38c9UwVyIj76mE55yPgoV0m8RCqj9yKDqBQAczQJicKu%7EHBRb-sVpBlEktEVs-ZcdvDzmcO-8LJRz6SMD7BtWNDJnOc8yKpBjsZdshSV3vuS1Vk2zoHkxw__&Key-Pair-Id=KCD77M1F0VK2B [following]\n",
            "--2024-01-01 00:47:52--  https://cdn-lfs-us-1.huggingface.co/repos/71/79/7179670c1d061668ec3b58825d7563e9b7909f96c749ff2e5333e3541e1bbee2/e4ce9eabae27e45131c3d0d99223f133b96257301670073b3aee50f7627e20b2?response-content-disposition=attachment%3B+filename*%3DUTF-8%27%27dolphin-2.6-mistral-7b.Q5_K_M.gguf%3B+filename%3D%22dolphin-2.6-mistral-7b.Q5_K_M.gguf%22%3B&Expires=1704324492&Policy=eyJTdGF0ZW1lbnQiOlt7IkNvbmRpdGlvbiI6eyJEYXRlTGVzc1RoYW4iOnsiQVdTOkVwb2NoVGltZSI6MTcwNDMyNDQ5Mn19LCJSZXNvdXJjZSI6Imh0dHBzOi8vY2RuLWxmcy11cy0xLmh1Z2dpbmdmYWNlLmNvL3JlcG9zLzcxLzc5LzcxNzk2NzBjMWQwNjE2NjhlYzNiNTg4MjVkNzU2M2U5Yjc5MDlmOTZjNzQ5ZmYyZTUzMzNlMzU0MWUxYmJlZTIvZTRjZTllYWJhZTI3ZTQ1MTMxYzNkMGQ5OTIyM2YxMzNiOTYyNTczMDE2NzAwNzNiM2FlZTUwZjc2MjdlMjBiMj9yZXNwb25zZS1jb250ZW50LWRpc3Bvc2l0aW9uPSoifV19&Signature=LdUXt6VIURAzEhPiGuJ%7E4E8HrCrN8FfHzK4Eq1LAhbbF-KUoL4dKnN886djYF8jcKpSR0Osj1vzjjxHNQ5QUOqlFmkVGAeEbXM6Hc9aqGqz3s1CYEaBChUuwPE4DkjQGWmcheqYdSBpK5azBevjkpMOJWbjDlO1Axn6IIJJcZ6b6538Jl5PRPNCMwEYui3JYALyX1zA8f%7EG3kxqiQ5GB0ILlybSQWixX38c9UwVyIj76mE55yPgoV0m8RCqj9yKDqBQAczQJicKu%7EHBRb-sVpBlEktEVs-ZcdvDzmcO-8LJRz6SMD7BtWNDJnOc8yKpBjsZdshSV3vuS1Vk2zoHkxw__&Key-Pair-Id=KCD77M1F0VK2B\n",
            "Resolving cdn-lfs-us-1.huggingface.co (cdn-lfs-us-1.huggingface.co)... 108.156.107.29, 108.156.107.44, 108.156.107.80, ...\n",
            "Connecting to cdn-lfs-us-1.huggingface.co (cdn-lfs-us-1.huggingface.co)|108.156.107.29|:443... connected.\n",
            "HTTP request sent, awaiting response... 200 OK\n",
            "Length: 5132351712 (4.8G) [binary/octet-stream]\n",
            "Saving to: ‘dolphin-2.6-mistral-7b.Q5_K_M.gguf’\n",
            "\n",
            "dolphin-2.6-mistral 100%[===================>]   4.78G   210MB/s    in 30s     \n",
            "\n",
            "2024-01-01 00:48:22 (164 MB/s) - ‘dolphin-2.6-mistral-7b.Q5_K_M.gguf’ saved [5132351712/5132351712]\n",
            "\n"
          ]
        }
      ]
    },
    {
      "cell_type": "code",
      "source": [
        "from llama_cpp import Llama"
      ],
      "metadata": {
        "id": "xlQT4er6KKjd"
      },
      "execution_count": 3,
      "outputs": []
    },
    {
      "cell_type": "code",
      "source": [
        "llm = Llama(model_path=\"/content/dolphin-2.6-mistral-7b.Q5_K_M.gguf\",\n",
        "            n_gpu_layers=-1)"
      ],
      "metadata": {
        "colab": {
          "base_uri": "https://localhost:8080/"
        },
        "id": "b5rJMzYjKMWd",
        "outputId": "ec413b6a-8c47-47b8-aecc-b243a8ea2d98"
      },
      "execution_count": 4,
      "outputs": [
        {
          "output_type": "stream",
          "name": "stderr",
          "text": [
            "AVX = 1 | AVX2 = 1 | AVX512 = 0 | AVX512_VBMI = 0 | AVX512_VNNI = 0 | FMA = 1 | NEON = 0 | ARM_FMA = 0 | F16C = 1 | FP16_VA = 0 | WASM_SIMD = 0 | BLAS = 1 | SSE3 = 1 | SSSE3 = 1 | VSX = 0 | \n"
          ]
        }
      ]
    },
    {
      "cell_type": "code",
      "source": [
        "def ask_question(question, max_tokens=32, stop=[\"Q:\", \"\\n\"], echo=True):\n",
        "    \"\"\"\n",
        "    Ask a question using a language model.\n",
        "\n",
        "    Args:\n",
        "    question (str): The question to ask the language model.\n",
        "    max_tokens (int): The maximum number of tokens to generate.\n",
        "    stop (list): A list of stopping criteria for the generation.\n",
        "    echo (bool): Whether to echo the input in the output.\n",
        "\n",
        "    Returns:\n",
        "    str: The output from the language model.\n",
        "    \"\"\"\n",
        "    output = llm(question, max_tokens=max_tokens, stop=stop, echo=echo)\n",
        "    return output\n"
      ],
      "metadata": {
        "id": "1TV_XgKpMUpF"
      },
      "execution_count": 5,
      "outputs": []
    },
    {
      "cell_type": "code",
      "source": [
        "def extract_answer(json_data):\n",
        "    for choice in json_data.get('choices', []):\n",
        "        text = choice.get('text', '')\n",
        "        if 'A: ' in text:\n",
        "            answer_start = text.find('A: ') + 3\n",
        "            return text[answer_start:]\n",
        "    return None"
      ],
      "metadata": {
        "id": "PU-aOnCoLM4-"
      },
      "execution_count": 6,
      "outputs": []
    },
    {
      "cell_type": "code",
      "source": [
        "response = ask_question(\"Q: Name the planets in the solar system? A: \", max_tokens=512)"
      ],
      "metadata": {
        "id": "k65I33VAMUcf"
      },
      "execution_count": 7,
      "outputs": []
    },
    {
      "cell_type": "code",
      "source": [
        "print(extract_answer(response))"
      ],
      "metadata": {
        "colab": {
          "base_uri": "https://localhost:8080/"
        },
        "id": "IjX8arxaMmsD",
        "outputId": "14f08248-6173-4090-e5c8-4a2961efec00"
      },
      "execution_count": 8,
      "outputs": [
        {
          "output_type": "stream",
          "name": "stdout",
          "text": [
            "1. Mercury, 2. Venus, 3. Earth, 4. Mars, 5. Jupiter, 6. Saturn, 7. Uranus, 8. Neptune\n"
          ]
        }
      ]
    },
    {
      "cell_type": "code",
      "source": [
        "response = ask_question(\"Q: Explain why Pluto is no longer considered a planet? A: \", max_tokens=512)"
      ],
      "metadata": {
        "colab": {
          "base_uri": "https://localhost:8080/"
        },
        "id": "qS-73hYSe_ht",
        "outputId": "7e9e13f6-4d6c-44c2-d6d7-2e8cbfd5c66c"
      },
      "execution_count": 9,
      "outputs": [
        {
          "output_type": "stream",
          "name": "stderr",
          "text": [
            "Llama.generate: prefix-match hit\n"
          ]
        }
      ]
    },
    {
      "cell_type": "code",
      "source": [
        "print(extract_answer(response))"
      ],
      "metadata": {
        "colab": {
          "base_uri": "https://localhost:8080/"
        },
        "id": "J_gYMvTEfQgo",
        "outputId": "219bf918-af11-4798-bf6d-81ade64df564"
      },
      "execution_count": 10,
      "outputs": [
        {
          "output_type": "stream",
          "name": "stdout",
          "text": [
            "1. In 2006, the International Astronomical Union (IAU) redefined the rules for what constitutes a planet. According to their new definition, a celestial body must meet three criteria: it must orbit around the sun, be spherical in shape, and have cleared its orbital path of other debris. Pluto failed this third criterion as it shares its orbit with many other small objects called \"Kuiper Belt Objects\" (KBOs). 2. The IAU then reclassified Pluto as a \"dwarf planet\", a category that also includes other celestial bodies such as Eris, Haumea, and Makemake. Dwarf planets share some characteristics with regular planets but do not meet all three of the criteria for being classified as one. 3. Although the classification change has generated some controversy among astronomers and the public alike, it is based on scientific principles and has been widely accepted by the scientific community since its implementation.\n"
          ]
        }
      ]
    }
  ]
}